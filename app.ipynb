{
 "cells": [
  {
   "cell_type": "code",
   "execution_count": 13,
   "id": "60c2b72f-69c7-4e77-964d-1fd0b9072655",
   "metadata": {},
   "outputs": [
    {
     "name": "stdout",
     "output_type": "stream",
     "text": [
      "File Manager App\n",
      "1: Create a file\n",
      "2: View all files\n",
      "3: Delete File\n",
      "4: Read File\n",
      "5: Edit file\n",
      "6: Exit\n"
     ]
    },
    {
     "name": "stdin",
     "output_type": "stream",
     "text": [
      "Enter your choice:  1\n",
      "Enter file name to create:  time.txt\n"
     ]
    },
    {
     "name": "stdout",
     "output_type": "stream",
     "text": [
      "File name: time.txt created successfully!\n",
      "File Manager App\n",
      "1: Create a file\n",
      "2: View all files\n",
      "3: Delete File\n",
      "4: Read File\n",
      "5: Edit file\n",
      "6: Exit\n"
     ]
    },
    {
     "name": "stdin",
     "output_type": "stream",
     "text": [
      "Enter your choice:  2\n"
     ]
    },
    {
     "name": "stdout",
     "output_type": "stream",
     "text": [
      "Files in directory: \n",
      ".ipynb_checkpoints\n",
      "app.ipynb\n",
      "sample.txt\n",
      "time.txt\n",
      "untitled.py\n",
      "File Manager App\n",
      "1: Create a file\n",
      "2: View all files\n",
      "3: Delete File\n",
      "4: Read File\n",
      "5: Edit file\n",
      "6: Exit\n"
     ]
    },
    {
     "name": "stdin",
     "output_type": "stream",
     "text": [
      "Enter your choice:  6\n"
     ]
    },
    {
     "name": "stdout",
     "output_type": "stream",
     "text": [
      "Closing the App\n"
     ]
    }
   ],
   "source": [
    "import os\n",
    "\n",
    "def create_file(file_name):\n",
    "    try:\n",
    "        with open(file_name,\"x\") as fh:\n",
    "            print(f\"File name: {file_name} created successfully!\")\n",
    "    except FileExistsError:\n",
    "        print(f\"File name: {file_name} already exists!\")\n",
    "    except Exception as E:\n",
    "        print(\"An error occured\")\n",
    "\n",
    "def view_files():\n",
    "    files = os.listdir()\n",
    "    if not files:\n",
    "        print(\"No file found!\")\n",
    "    else:\n",
    "        print(\"Files in directory: \")\n",
    "        for file in files:\n",
    "            print(file)\n",
    "\n",
    "def delete_file(file_name):\n",
    "    try:\n",
    "        os.remove(file_name)\n",
    "        print(\"File has been deleted successfully!\")\n",
    "    except FileNotFoundError:\n",
    "        print(f\"file {file_name} not found\")\n",
    "    except Exception as E:\n",
    "        print(\"An error occured\")\n",
    "\n",
    "def read_file(file_name):\n",
    "    try:\n",
    "        with open(file_name,\"r\") as fh:\n",
    "            content = fh.read()\n",
    "            print(f\"Content of {file_name} is:\\n{content}\")\n",
    "    except FileNotFoundError:\n",
    "        print(f\"file {file_name} not found\")\n",
    "    except Exception as E:\n",
    "        print(\"An error occured\")\n",
    "\n",
    "def edit_file(file_name):\n",
    "    try:\n",
    "        with open(file_name,\"r\") as fh:\n",
    "            content = input(\"Enter the data want to append: \")\n",
    "            fh.write(content + \"\\n\")\n",
    "            print(f\"Content added to the {file_name} successfully \")\n",
    "    except FileNotFoundError:\n",
    "        print(f\"file {file_name} not found\")\n",
    "    except Exception as E:\n",
    "        print(\"An error occured\")\n",
    "\n",
    "def main():\n",
    "    while True:\n",
    "        print(\"File Manager App\")\n",
    "        print(\"1: Create a file\")\n",
    "        print(\"2: View all files\")\n",
    "        print(\"3: Delete File\")\n",
    "        print(\"4: Read File\")\n",
    "        print(\"5: Edit file\")\n",
    "        print(\"6: Exit\")\n",
    "\n",
    "        choice = input(\"Enter your choice: \")\n",
    "\n",
    "        if choice == \"1\":\n",
    "            file_name = input(\"Enter file name to create: \")\n",
    "            create_file(file_name)\n",
    "        elif choice == \"2\":\n",
    "            view_files()\n",
    "        elif choice == \"3\":\n",
    "            file_name = input(\"Enter file name to delete: \")\n",
    "            delete_file(file_name)\n",
    "        elif choice == \"4\":\n",
    "            file_name = input(\"Enter file name to read: \")\n",
    "            read_file(file_name)\n",
    "        elif choice == \"5\":\n",
    "            file_name = input(\"Enter file name to edit: \")\n",
    "            edit_file(file_name)\n",
    "        elif choice == \"6\":\n",
    "            print(\"Closing the App!\")\n",
    "            return False\n",
    "        else:\n",
    "            print(\"Invalid choice! Give a valid choice between 1-6. \")\n",
    "\n",
    "if __name__ == \"__main__\":\n",
    "    main()\n",
    "   "
   ]
  },
  {
   "cell_type": "code",
   "execution_count": null,
   "id": "0fe37f56-3a2f-4a0a-80f4-d04bf4d213b7",
   "metadata": {},
   "outputs": [],
   "source": []
  }
 ],
 "metadata": {
  "kernelspec": {
   "display_name": "Python 3 (ipykernel)",
   "language": "python",
   "name": "python3"
  },
  "language_info": {
   "codemirror_mode": {
    "name": "ipython",
    "version": 3
   },
   "file_extension": ".py",
   "mimetype": "text/x-python",
   "name": "python",
   "nbconvert_exporter": "python",
   "pygments_lexer": "ipython3",
   "version": "3.11.7"
  }
 },
 "nbformat": 4,
 "nbformat_minor": 5
}
